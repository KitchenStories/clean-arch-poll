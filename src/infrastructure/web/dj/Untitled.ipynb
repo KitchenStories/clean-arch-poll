{
 "cells": [
  {
   "cell_type": "code",
   "execution_count": 1,
   "metadata": {},
   "outputs": [
    {
     "name": "stdout",
     "output_type": "stream",
     "text": [
      "2020-08-22 12:08:14,947 INFO sqlalchemy.engine.base.Engine SELECT CAST('test plain returns' AS VARCHAR(60)) AS anon_1\n",
      "2020-08-22 12:08:14,947 INFO sqlalchemy.engine.base.Engine ()\n",
      "2020-08-22 12:08:14,949 INFO sqlalchemy.engine.base.Engine SELECT CAST('test unicode returns' AS VARCHAR(60)) AS anon_1\n",
      "2020-08-22 12:08:14,949 INFO sqlalchemy.engine.base.Engine ()\n",
      "2020-08-22 12:08:14,951 INFO sqlalchemy.engine.base.Engine PRAGMA main.table_info(\"question\")\n",
      "2020-08-22 12:08:14,952 INFO sqlalchemy.engine.base.Engine ()\n",
      "2020-08-22 12:08:14,953 INFO sqlalchemy.engine.base.Engine PRAGMA main.table_info(\"choice\")\n",
      "2020-08-22 12:08:14,954 INFO sqlalchemy.engine.base.Engine ()\n",
      "2020-08-22 12:08:14,959 INFO sqlalchemy.engine.base.Engine SELECT CAST('test plain returns' AS VARCHAR(60)) AS anon_1\n",
      "2020-08-22 12:08:14,960 INFO sqlalchemy.engine.base.Engine ()\n",
      "2020-08-22 12:08:14,962 INFO sqlalchemy.engine.base.Engine SELECT CAST('test unicode returns' AS VARCHAR(60)) AS anon_1\n",
      "2020-08-22 12:08:14,963 INFO sqlalchemy.engine.base.Engine ()\n",
      "2020-08-22 12:08:14,965 INFO sqlalchemy.engine.base.Engine PRAGMA main.table_info(\"question\")\n",
      "2020-08-22 12:08:14,965 INFO sqlalchemy.engine.base.Engine ()\n",
      "2020-08-22 12:08:14,967 INFO sqlalchemy.engine.base.Engine PRAGMA main.table_info(\"choice\")\n",
      "2020-08-22 12:08:14,968 INFO sqlalchemy.engine.base.Engine ()\n",
      "##############\n",
      "2020-08-22 12:08:14,977 INFO sqlalchemy.engine.base.Engine BEGIN (implicit)\n",
      "2020-08-22 12:08:14,979 INFO sqlalchemy.engine.base.Engine SELECT question.id AS question_id, question.name AS question_name, question.text AS question_text, choice_1.id AS choice_1_id, choice_1.name AS choice_1_name, choice_1.text AS choice_1_text, choice_1.votes AS choice_1_votes, choice_1.question_id AS choice_1_question_id \n",
      "FROM question LEFT OUTER JOIN choice AS choice_1 ON question.id = choice_1.question_id\n",
      "2020-08-22 12:08:14,980 INFO sqlalchemy.engine.base.Engine ()\n",
      "list ()\n"
     ]
    },
    {
     "data": {
      "text/plain": [
       "()"
      ]
     },
     "execution_count": 1,
     "metadata": {},
     "output_type": "execute_result"
    }
   ],
   "source": [
    "from infrastructure.web.repo_instances import get_sqlalchemy_repo\n",
    "\n",
    "\n",
    "choice_repo, poll_repo = get_sqlalchemy_repo()\n",
    "\n",
    "tuple(poll_repo.list())\n"
   ]
  },
  {
   "cell_type": "code",
   "execution_count": null,
   "metadata": {},
   "outputs": [],
   "source": []
  }
 ],
 "metadata": {
  "kernelspec": {
   "display_name": "Python 3",
   "language": "python",
   "name": "python3"
  },
  "language_info": {
   "codemirror_mode": {
    "name": "ipython",
    "version": 3
   },
   "file_extension": ".py",
   "mimetype": "text/x-python",
   "name": "python",
   "nbconvert_exporter": "python",
   "pygments_lexer": "ipython3",
   "version": "3.8.1"
  }
 },
 "nbformat": 4,
 "nbformat_minor": 4
}
